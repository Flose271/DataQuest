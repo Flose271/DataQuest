{
 "cells": [
  {
   "cell_type": "markdown",
   "metadata": {
    "collapsed": true
   },
   "source": [
    "# Hacker News\n",
    "\n",
    " This is a my description\n"
   ]
  },
  {
   "cell_type": "code",
   "execution_count": 7,
   "metadata": {
    "collapsed": true
   },
   "outputs": [
    {
     "name": "stdout",
     "output_type": "stream",
     "text": [
      "[['12224879', 'Interactive Dynamic Video', 'http://www.interactivedynamicvideo.com/', '386', '52', 'ne0phyte', '8/4/2016 11:52'], ['10975351', 'How to Use Open Source and Shut the Fuck Up at the Same Time', 'http://hueniverse.com/2016/01/26/how-to-use-open-source-and-shut-the-fuck-up-at-the-same-time/', '39', '10', 'josep2', '1/26/2016 19:30'], ['11964716', \"Florida DJs May Face Felony for April Fools' Water Joke\", 'http://www.thewire.com/entertainment/2013/04/florida-djs-april-fools-water-joke/63798/', '2', '1', 'vezycash', '6/23/2016 22:20'], ['11919867', 'Technology ventures: From Idea to Enterprise', 'https://www.amazon.com/Technology-Ventures-Enterprise-Thomas-Byers/dp/0073523429', '3', '1', 'hswarna', '6/17/2016 0:01'], ['10301696', 'Note by Note: The Making of Steinway L1037 (2007)', 'http://www.nytimes.com/2007/11/07/movies/07stein.html?_r=0', '8', '2', 'walterbell', '9/30/2015 4:12']]\n"
     ]
    }
   ],
   "source": [
    "from csv import reader\n",
    "\n",
    "opened_file = open('hacker_news.csv')\n",
    "hn = list(reader(opened_file))\n",
    "headers = hn[0]\n",
    "hn = hn[1:]\n",
    "print(hn[:5])\n",
    "\n",
    "ask_posts = []\n",
    "show_posts = []\n",
    "other_posts = []\n",
    "\n",
    "for row in hn:\n",
    "    title = row[1]\n",
    "    title = title.lower()\n",
    "    if(title.startswith('ask hn')):\n",
    "        ask_posts.append(row)\n",
    "    elif(title.startswith('show hn')):\n",
    "        show_posts.append(row)\n",
    "    else:\n",
    "        other_posts.append(row)\n",
    "\n",
    "total_ask_comments = 0\n",
    "for posts in ask_posts:\n",
    "    total_ask_comments += int(posts[4])\n",
    "avg_ask_comments = total_ask_comments/len(ask_posts)\n",
    "\n",
    "total_show_comments = 0\n",
    "for posts in show_posts:\n",
    "    total_show_comments += int(posts[4])\n",
    "avg_show_comments = total_show_comments/len(show_posts)\n",
    "\n",
    "total_other_comments = 0\n",
    "for posts in other_posts:\n",
    "    total_other_comments += int(posts[4])\n",
    "avg_other_comments = total_other_comments/len(other_posts)\n",
    "\n",
    "# print(avg_ask_comments)\n",
    "# print(avg_show_comments)\n",
    "# print(avg_other_comments)"
   ]
  },
  {
   "cell_type": "markdown",
   "metadata": {},
   "source": [
    "We have that 'ask posts' recieve 14.0 comments on average, 'show posts' 10.3 comments on average, and other posts 26.9 comments on average."
   ]
  },
  {
   "cell_type": "code",
   "execution_count": 31,
   "metadata": {
    "collapsed": false
   },
   "outputs": [
    {
     "name": "stdout",
     "output_type": "stream",
     "text": [
      "15:00: 38.59 average comments per post.\n",
      "02:00: 23.81 average comments per post.\n",
      "20:00: 21.52 average comments per post.\n",
      "16:00: 16.80 average comments per post.\n",
      "21:00: 16.01 average comments per post.\n",
      "13:00: 14.74 average comments per post.\n",
      "10:00: 13.44 average comments per post.\n",
      "14:00: 13.23 average comments per post.\n",
      "18:00: 13.20 average comments per post.\n",
      "17:00: 11.46 average comments per post.\n",
      "01:00: 11.38 average comments per post.\n",
      "11:00: 11.05 average comments per post.\n",
      "19:00: 10.80 average comments per post.\n",
      "08:00: 10.25 average comments per post.\n",
      "05:00: 10.09 average comments per post.\n",
      "12:00: 9.41 average comments per post.\n",
      "06:00: 9.02 average comments per post.\n",
      "00:00: 8.13 average comments per post.\n",
      "23:00: 7.99 average comments per post.\n",
      "07:00: 7.85 average comments per post.\n",
      "03:00: 7.80 average comments per post.\n",
      "04:00: 7.17 average comments per post.\n",
      "22:00: 6.75 average comments per post.\n",
      "09:00: 5.58 average comments per post.\n"
     ]
    }
   ],
   "source": [
    "import datetime as dt\n",
    "\n",
    "result_list = []\n",
    "\n",
    "for posts in ask_posts:\n",
    "    created_at = posts[6]\n",
    "    num_comments = int(posts[4])\n",
    "    result_list.append([created_at,num_comments])\n",
    "    \n",
    "counts_by_hour = {}\n",
    "comments_by_hour = {}\n",
    "possible_hours = []\n",
    "\n",
    "for result in result_list:\n",
    "    date = result[0]\n",
    "    date = dt.datetime.strptime(date,'%m/%d/%Y %H:%M')\n",
    "    hour = date.strftime('%H')\n",
    "    if(hour not in possible_hours):\n",
    "        possible_hours.append(hour)\n",
    "    if(hour not in counts_by_hour):\n",
    "        counts_by_hour[hour] = 1\n",
    "        comments_by_hour[hour] = result[1]\n",
    "    else:\n",
    "        counts_by_hour[hour] += 1\n",
    "        comments_by_hour[hour] += result[1]\n",
    "\n",
    "# print(counts_by_hour)\n",
    "# print(comments_by_hour)\n",
    "\n",
    "avg_by_hour = []\n",
    "for hour in possible_hours:\n",
    "    avg = comments_by_hour[hour]/counts_by_hour[hour]\n",
    "    avg_hour = [hour,avg]\n",
    "    avg_by_hour.append(avg_hour)\n",
    "\n",
    "# print(avg_by_hour)\n",
    "\n",
    "swap_avg_by_hour = [[hour[1],hour[0]] for hour in avg_by_hour]\n",
    "\n",
    "sorted_swap = sorted(swap_avg_by_hour,reverse=True)\n",
    "\n",
    "# print(sorted_swap)\n",
    "\n",
    "template = '{hour}:00: {comments:.2f} average comments per post.'\n",
    "\n",
    "for result in sorted_swap:\n",
    "    display = template.format(hour=result[1],\n",
    "                             comments=result[0])\n",
    "    print(display)\n"
   ]
  }
 ],
 "metadata": {
  "kernelspec": {
   "display_name": "Python 3",
   "language": "python",
   "name": "python3"
  },
  "language_info": {
   "codemirror_mode": {
    "name": "ipython",
    "version": 3
   },
   "file_extension": ".py",
   "mimetype": "text/x-python",
   "name": "python",
   "nbconvert_exporter": "python",
   "pygments_lexer": "ipython3",
   "version": "3.4.3"
  }
 },
 "nbformat": 4,
 "nbformat_minor": 2
}
